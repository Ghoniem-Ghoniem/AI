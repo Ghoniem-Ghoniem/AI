{
 "cells": [
  {
   "cell_type": "code",
   "execution_count": 1,
   "metadata": {},
   "outputs": [
    {
     "name": "stderr",
     "output_type": "stream",
     "text": [
      "[nltk_data] Downloading package punkt to C:\\Users\\Yousif\n",
      "[nltk_data]     Ennwa\\AppData\\Roaming\\nltk_data...\n",
      "[nltk_data]   Package punkt is already up-to-date!\n"
     ]
    },
    {
     "data": {
      "text/plain": [
       "True"
      ]
     },
     "execution_count": 1,
     "metadata": {},
     "output_type": "execute_result"
    }
   ],
   "source": [
    "import nltk\n",
    "nltk.download('punkt')"
   ]
  },
  {
   "cell_type": "code",
   "execution_count": 14,
   "metadata": {},
   "outputs": [
    {
     "name": "stdout",
     "output_type": "stream",
     "text": [
      "Sentiment(polarity=1.0, subjectivity=1.0)\n"
     ]
    },
    {
     "data": {
      "text/html": [
       "<div>\n",
       "<style scoped>\n",
       "    .dataframe tbody tr th:only-of-type {\n",
       "        vertical-align: middle;\n",
       "    }\n",
       "\n",
       "    .dataframe tbody tr th {\n",
       "        vertical-align: top;\n",
       "    }\n",
       "\n",
       "    .dataframe thead th {\n",
       "        text-align: right;\n",
       "    }\n",
       "</style>\n",
       "<table border=\"1\" class=\"dataframe\">\n",
       "  <thead>\n",
       "    <tr style=\"text-align: right;\">\n",
       "      <th></th>\n",
       "      <th>Statement</th>\n",
       "      <th>Class</th>\n",
       "    </tr>\n",
       "  </thead>\n",
       "  <tbody>\n",
       "    <tr>\n",
       "      <th>0</th>\n",
       "      <td>مرة واحد صعيدي</td>\n",
       "      <td>نكت</td>\n",
       "    </tr>\n",
       "    <tr>\n",
       "      <th>1</th>\n",
       "      <td>يا ابن الكلب</td>\n",
       "      <td>سب</td>\n",
       "    </tr>\n",
       "    <tr>\n",
       "      <th>2</th>\n",
       "      <td>مرة اتنين شافوا واحدة</td>\n",
       "      <td>نكت</td>\n",
       "    </tr>\n",
       "    <tr>\n",
       "      <th>3</th>\n",
       "      <td>فوز نادي</td>\n",
       "      <td>رياضة</td>\n",
       "    </tr>\n",
       "    <tr>\n",
       "      <th>4</th>\n",
       "      <td>والله انتو عيال ولاد</td>\n",
       "      <td>سب</td>\n",
       "    </tr>\n",
       "    <tr>\n",
       "      <th>5</th>\n",
       "      <td>المصري يفوز على</td>\n",
       "      <td>رياضة</td>\n",
       "    </tr>\n",
       "    <tr>\n",
       "      <th>6</th>\n",
       "      <td>هزيمة مدوية للمنتخب الوطني</td>\n",
       "      <td>رياضة</td>\n",
       "    </tr>\n",
       "    <tr>\n",
       "      <th>7</th>\n",
       "      <td>يا حيوان يا جزمة</td>\n",
       "      <td>سب</td>\n",
       "    </tr>\n",
       "    <tr>\n",
       "      <th>8</th>\n",
       "      <td>أنت مبتفهمش</td>\n",
       "      <td>سب</td>\n",
       "    </tr>\n",
       "    <tr>\n",
       "      <th>9</th>\n",
       "      <td>برشلونة تخسر مباراتها أمام البايرن</td>\n",
       "      <td>رياضة</td>\n",
       "    </tr>\n",
       "    <tr>\n",
       "      <th>10</th>\n",
       "      <td>خسارة فريق السودان أمام السنغال</td>\n",
       "      <td>رياضة</td>\n",
       "    </tr>\n",
       "  </tbody>\n",
       "</table>\n",
       "</div>"
      ],
      "text/plain": [
       "                             Statement  Class\n",
       "0                       مرة واحد صعيدي    نكت\n",
       "1                         يا ابن الكلب     سب\n",
       "2                مرة اتنين شافوا واحدة    نكت\n",
       "3                            فوز نادي   رياضة\n",
       "4                 والله انتو عيال ولاد     سب\n",
       "5                      المصري يفوز على  رياضة\n",
       "6           هزيمة مدوية للمنتخب الوطني  رياضة\n",
       "7                     يا حيوان يا جزمة     سب\n",
       "8                          أنت مبتفهمش     سب\n",
       "9   برشلونة تخسر مباراتها أمام البايرن  رياضة\n",
       "10     خسارة فريق السودان أمام السنغال  رياضة"
      ]
     },
     "execution_count": 14,
     "metadata": {},
     "output_type": "execute_result"
    }
   ],
   "source": [
    "import pandas as pd\n",
    "df = pd.read_excel(\"SubjectsClassification.xlsx\",'Sentiments_Arabic')\n",
    "# run pip install textblob first from command line\n",
    "from textblob import TextBlob\n",
    "testmonial = TextBlob('the course was excellent')\n",
    "print (testmonial.sentiment)\n",
    "\n",
    "df"
   ]
  },
  {
   "cell_type": "code",
   "execution_count": 19,
   "metadata": {},
   "outputs": [
    {
     "name": "stdout",
     "output_type": "stream",
     "text": [
      "رياضة\n",
      "نكت\n",
      "رياضة\n"
     ]
    },
    {
     "data": {
      "text/plain": [
       "0.6"
      ]
     },
     "execution_count": 19,
     "metadata": {},
     "output_type": "execute_result"
    }
   ],
   "source": [
    "from textblob.classifiers import NaiveBayesClassifier\n",
    "cl = NaiveBayesClassifier(df.head(7).values) #should pass the values, not the data frame with index and columns titles\n",
    "#you have also different classifiers, like DecisionTreeClassifier\n",
    "\n",
    "print(cl.classify(\"مصر خسرت المباراة\"))\n",
    "print(cl.classify(\"مرة واحد لبناني جه يعمل مش عار ايه عمل بتاع\"))\n",
    "print(cl.classify(\"أنتو ولاد\"))\n",
    "cl.accuracy(df.tail(5).values)#you should enter here test data, not all data as we did"
   ]
  }
 ],
 "metadata": {
  "kernelspec": {
   "display_name": "Python 3",
   "language": "python",
   "name": "python3"
  },
  "language_info": {
   "codemirror_mode": {
    "name": "ipython",
    "version": 3
   },
   "file_extension": ".py",
   "mimetype": "text/x-python",
   "name": "python",
   "nbconvert_exporter": "python",
   "pygments_lexer": "ipython3",
   "version": "3.7.1"
  }
 },
 "nbformat": 4,
 "nbformat_minor": 2
}
