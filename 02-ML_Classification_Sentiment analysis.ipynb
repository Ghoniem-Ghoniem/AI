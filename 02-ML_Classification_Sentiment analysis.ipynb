{
 "cells": [
  {
   "cell_type": "code",
   "execution_count": 36,
   "metadata": {},
   "outputs": [
    {
     "data": {
      "text/html": [
       "<div>\n",
       "<style scoped>\n",
       "    .dataframe tbody tr th:only-of-type {\n",
       "        vertical-align: middle;\n",
       "    }\n",
       "\n",
       "    .dataframe tbody tr th {\n",
       "        vertical-align: top;\n",
       "    }\n",
       "\n",
       "    .dataframe thead th {\n",
       "        text-align: right;\n",
       "    }\n",
       "</style>\n",
       "<table border=\"1\" class=\"dataframe\">\n",
       "  <thead>\n",
       "    <tr style=\"text-align: right;\">\n",
       "      <th></th>\n",
       "      <th>Statement</th>\n",
       "      <th>Class</th>\n",
       "    </tr>\n",
       "  </thead>\n",
       "  <tbody>\n",
       "    <tr>\n",
       "      <th>0</th>\n",
       "      <td>مرة واحد صعيدي</td>\n",
       "      <td>نكت</td>\n",
       "    </tr>\n",
       "    <tr>\n",
       "      <th>1</th>\n",
       "      <td>يا ابن الكلب</td>\n",
       "      <td>سب</td>\n",
       "    </tr>\n",
       "    <tr>\n",
       "      <th>2</th>\n",
       "      <td>مرة اتنين شافوا واحدة</td>\n",
       "      <td>نكت</td>\n",
       "    </tr>\n",
       "    <tr>\n",
       "      <th>3</th>\n",
       "      <td>فوز نادي</td>\n",
       "      <td>رياضة</td>\n",
       "    </tr>\n",
       "    <tr>\n",
       "      <th>4</th>\n",
       "      <td>والله انتو عيال ولاد</td>\n",
       "      <td>سب</td>\n",
       "    </tr>\n",
       "    <tr>\n",
       "      <th>5</th>\n",
       "      <td>المصري يفوز على</td>\n",
       "      <td>رياضة</td>\n",
       "    </tr>\n",
       "    <tr>\n",
       "      <th>6</th>\n",
       "      <td>هزيمة مدوية للمنتخب الوطني</td>\n",
       "      <td>رياضة</td>\n",
       "    </tr>\n",
       "    <tr>\n",
       "      <th>7</th>\n",
       "      <td>يا حيوان يا جزمة</td>\n",
       "      <td>سب</td>\n",
       "    </tr>\n",
       "    <tr>\n",
       "      <th>8</th>\n",
       "      <td>أنت مبتفهمش</td>\n",
       "      <td>سب</td>\n",
       "    </tr>\n",
       "    <tr>\n",
       "      <th>9</th>\n",
       "      <td>برشلونة تخسر مباراتها أمام البايرن</td>\n",
       "      <td>رياضة</td>\n",
       "    </tr>\n",
       "    <tr>\n",
       "      <th>10</th>\n",
       "      <td>خسارة فريق السودان أمام السنغال</td>\n",
       "      <td>رياضة</td>\n",
       "    </tr>\n",
       "  </tbody>\n",
       "</table>\n",
       "</div>"
      ],
      "text/plain": [
       "                             Statement  Class\n",
       "0                       مرة واحد صعيدي    نكت\n",
       "1                         يا ابن الكلب     سب\n",
       "2                مرة اتنين شافوا واحدة    نكت\n",
       "3                            فوز نادي   رياضة\n",
       "4                 والله انتو عيال ولاد     سب\n",
       "5                      المصري يفوز على  رياضة\n",
       "6           هزيمة مدوية للمنتخب الوطني  رياضة\n",
       "7                     يا حيوان يا جزمة     سب\n",
       "8                          أنت مبتفهمش     سب\n",
       "9   برشلونة تخسر مباراتها أمام البايرن  رياضة\n",
       "10     خسارة فريق السودان أمام السنغال  رياضة"
      ]
     },
     "execution_count": 36,
     "metadata": {},
     "output_type": "execute_result"
    }
   ],
   "source": [
    "import pandas as pd\n",
    "df = pd.read_excel(\"SubjectsClassification.xlsx\",'Sentiments_Arabic')\n",
    "# run pip install textblob first from command line\n",
    "df"
   ]
  },
  {
   "cell_type": "code",
   "execution_count": 45,
   "metadata": {},
   "outputs": [
    {
     "name": "stdout",
     "output_type": "stream",
     "text": [
      "0\n",
      "2\n",
      "1\n"
     ]
    },
    {
     "data": {
      "text/plain": [
       "0.8181818181818182"
      ]
     },
     "execution_count": 45,
     "metadata": {},
     "output_type": "execute_result"
    }
   ],
   "source": [
    "from textblob.classifiers import NaiveBayesClassifier\n",
    "cl = NaiveBayesClassifier(df.head(7).values) #should pass the values, not the data frame with index and columns titles\n",
    "#you have also different classifiers, like DecisionTreeClassifier\n",
    "\n",
    "print(cl.classify(\"مصر خسرت المباراة\"))\n",
    "print(cl.classify(\"مرة واحد لبناني جه يعمل مش عار ايه عمل بتاع\"))\n",
    "print(cl.classify(\"يا ولاد\"))\n",
    "cl.accuracy(df.values)#you should enter here test data, not all data as we did"
   ]
  },
  {
   "cell_type": "code",
   "execution_count": 41,
   "metadata": {},
   "outputs": [],
   "source": [
    "from sklearn.naive_bayes import MultinomialNB\n",
    "from sklearn.metrics import accuracy_score\n",
    "\n",
    "\n",
    "from sklearn.feature_extraction.text import CountVectorizer\n",
    "import sklearn.model_selection as ms\n",
    "\n",
    "vect = CountVectorizer()\n",
    "mnb = MultinomialNB()\n",
    "\n",
    "x = df.Statement\n",
    "y = df.Class\n",
    "\n",
    "df['Class'] = df['Class'].map({'رياضة':0, 'سب':1, 'نكت':2})\n"
   ]
  },
  {
   "cell_type": "code",
   "execution_count": 42,
   "metadata": {},
   "outputs": [],
   "source": [
    "x_train, x_test, y_train, y_test = ms.train_test_split(x, y, test_size = 0.4, random_state = 1)\n",
    "from sklearn.feature_extraction.text import CountVectorizer\n",
    "vect = CountVectorizer()\n"
   ]
  },
  {
   "cell_type": "code",
   "execution_count": 43,
   "metadata": {},
   "outputs": [
    {
     "data": {
      "text/plain": [
       "0.6"
      ]
     },
     "execution_count": 43,
     "metadata": {},
     "output_type": "execute_result"
    }
   ],
   "source": [
    "x_train_vect = vect.fit_transform(x_train)\n",
    "x_test_vect = vect.transform(x_test)\n",
    "mnb = MultinomialNB()\n",
    "mnb.fit(x_train_vect, y_train)\n",
    "y_pred = mnb.predict(x_test_vect)\n",
    "accuracy_score(y_pred, y_test)"
   ]
  },
  {
   "cell_type": "code",
   "execution_count": 44,
   "metadata": {},
   "outputs": [
    {
     "name": "stdout",
     "output_type": "stream",
     "text": [
      "['رياضة']\n",
      "['نكت']\n"
     ]
    }
   ],
   "source": [
    "x_tr = vect.transform([\"مصر خسرت المباراة\"])\n",
    "yy = mnb.predict(x_tr)\n",
    "print(yy)\n",
    "x_tr = vect.transform([\"مرة واحد لبناني جه يعمل مش عار ايه عمل بتاع\"])\n",
    "yy = mnb.predict(x_tr)\n",
    "print(yy)"
   ]
  }
 ],
 "metadata": {
  "kernelspec": {
   "display_name": "Python 3",
   "language": "python",
   "name": "python3"
  },
  "language_info": {
   "codemirror_mode": {
    "name": "ipython",
    "version": 3
   },
   "file_extension": ".py",
   "mimetype": "text/x-python",
   "name": "python",
   "nbconvert_exporter": "python",
   "pygments_lexer": "ipython3",
   "version": "3.7.1"
  }
 },
 "nbformat": 4,
 "nbformat_minor": 2
}
