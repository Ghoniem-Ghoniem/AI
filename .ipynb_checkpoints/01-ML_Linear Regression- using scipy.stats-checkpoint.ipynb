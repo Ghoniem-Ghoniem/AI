{
 "cells": [
  {
   "cell_type": "code",
   "execution_count": 1,
   "metadata": {},
   "outputs": [
    {
     "name": "stdout",
     "output_type": "stream",
     "text": [
      "Slope: 234.4970355731225\n",
      "Intercecptor: -468660.5039525691\n",
      "Forecasting for Year 2020: 5023.5079051383655\n"
     ]
    }
   ],
   "source": [
    "import pandas as pd\n",
    "df = pd.read_excel(\"Sales.xlsx\",'Sales')\n",
    "df\n",
    "\n",
    "X = df[['Year','TotalCost']]\n",
    "y = df[['TotalCost']]\n",
    "\n",
    "\n",
    "from scipy import stats\n",
    "r = stats.linregress(X)\n",
    "print ('Slope:',r.slope)\n",
    "print ('Intercecptor:', r.intercept)\n",
    "r.slope,r.intercept,r.rvalue**2     #rvalue is the correlation\n",
    "print (\"Forecasting for Year 2020:\",r.slope*2020 + r.intercept)"
   ]
  },
  {
   "cell_type": "code",
   "execution_count": 17,
   "metadata": {},
   "outputs": [
    {
     "name": "stdout",
     "output_type": "stream",
     "text": [
      "[3021.6]\n"
     ]
    },
    {
     "name": "stderr",
     "output_type": "stream",
     "text": [
      "C:\\ProgramData\\Anaconda3\\lib\\site-packages\\ipykernel_launcher.py:10: DataConversionWarning: A column-vector y was passed when a 1d array was expected. Please change the shape of y to (n_samples,), for example using ravel().\n",
      "  # Remove the CWD from sys.path while we load stuff.\n"
     ]
    }
   ],
   "source": []
  },
  {
   "cell_type": "code",
   "execution_count": 18,
   "metadata": {},
   "outputs": [
    {
     "name": "stdout",
     "output_type": "stream",
     "text": [
      "Mean Absolute Error (MAE): 656.2573529411765\n",
      "Mean Squared Error (MSE): 1664841.4073161767\n",
      "Explained Variance Score: 0.6281583080926765\n",
      "Mean Squared Log Error: 0.12837842292577722\n",
      "Median Absolute Error: 149.0250000000001\n",
      "R^2: 0.5269147034289844\n",
      "Mean square error: 1664841.4073161767\n"
     ]
    }
   ],
   "source": []
  }
 ],
 "metadata": {
  "kernelspec": {
   "display_name": "Python 3",
   "language": "python",
   "name": "python3"
  },
  "language_info": {
   "codemirror_mode": {
    "name": "ipython",
    "version": 3
   },
   "file_extension": ".py",
   "mimetype": "text/x-python",
   "name": "python",
   "nbconvert_exporter": "python",
   "pygments_lexer": "ipython3",
   "version": "3.7.1"
  }
 },
 "nbformat": 4,
 "nbformat_minor": 2
}
