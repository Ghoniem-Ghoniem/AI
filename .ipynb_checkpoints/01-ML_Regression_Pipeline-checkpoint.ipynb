{
 "cells": [
  {
   "cell_type": "code",
   "execution_count": 19,
   "metadata": {},
   "outputs": [],
   "source": [
    "import pandas as pd\n",
    "from sklearn.preprocessing import StandardScaler\n",
    "from sklearn.pipeline import make_pipeline\n"
   ]
  },
  {
   "cell_type": "code",
   "execution_count": 31,
   "metadata": {},
   "outputs": [
    {
     "data": {
      "text/html": [
       "<div>\n",
       "<style scoped>\n",
       "    .dataframe tbody tr th:only-of-type {\n",
       "        vertical-align: middle;\n",
       "    }\n",
       "\n",
       "    .dataframe tbody tr th {\n",
       "        vertical-align: top;\n",
       "    }\n",
       "\n",
       "    .dataframe thead th {\n",
       "        text-align: right;\n",
       "    }\n",
       "</style>\n",
       "<table border=\"1\" class=\"dataframe\">\n",
       "  <thead>\n",
       "    <tr style=\"text-align: right;\">\n",
       "      <th></th>\n",
       "      <th>BuildingAge</th>\n",
       "      <th>TotalCost</th>\n",
       "    </tr>\n",
       "  </thead>\n",
       "  <tbody>\n",
       "    <tr>\n",
       "      <th>BuildingAge</th>\n",
       "      <td>1.000000</td>\n",
       "      <td>0.746543</td>\n",
       "    </tr>\n",
       "    <tr>\n",
       "      <th>TotalCost</th>\n",
       "      <td>0.746543</td>\n",
       "      <td>1.000000</td>\n",
       "    </tr>\n",
       "  </tbody>\n",
       "</table>\n",
       "</div>"
      ],
      "text/plain": [
       "             BuildingAge  TotalCost\n",
       "BuildingAge     1.000000   0.746543\n",
       "TotalCost       0.746543   1.000000"
      ]
     },
     "execution_count": 31,
     "metadata": {},
     "output_type": "execute_result"
    }
   ],
   "source": [
    "df = pd.read_excel(\"Sales.xlsx\",'BuildingCost')\n",
    "X = df[['BuildingAge']]\n",
    "y = df[['TotalCost']]\n",
    "from sklearn.linear_model import LinearRegression\n",
    "from sklearn.model_selection import train_test_split\n",
    "samplesize= 0.80\n",
    "X_train, X_test, y_train, y_test = train_test_split(X, y, test_size=samplesize)\n",
    "df\n",
    "df.corr()"
   ]
  },
  {
   "cell_type": "code",
   "execution_count": 37,
   "metadata": {},
   "outputs": [
    {
     "name": "stdout",
     "output_type": "stream",
     "text": [
      "[[2503.43417456]]\n",
      "Mean Absolute Error (MAE): 336.8585571607006\n",
      "Explained Variance Score: 0.551867977132221\n",
      "Median Absolute Error: 197.14877594198197\n",
      "R^2: 0.5454851891919206\n"
     ]
    },
    {
     "name": "stderr",
     "output_type": "stream",
     "text": [
      "C:\\ProgramData\\Anaconda3\\lib\\site-packages\\sklearn\\base.py:451: UserWarning: X does not have valid feature names, but LinearRegression was fitted with feature names\n",
      "  \"X does not have valid feature names, but\"\n"
     ]
    }
   ],
   "source": [
    "LRRegressor = LinearRegression() #gives less accuracy R^2: 0.6826995509387148\n",
    "\n",
    "LRRegressor.fit(X_train, y_train)\n",
    "#print (LRRegressor.predict([[1995,280,10]]))#prediction for apartment, with building age 1995, area 280, and floor 10#Model Evaluation\n",
    "print (LRRegressor.predict([[2025]]))#prediction for apartment, with building age 1995, area 280, and floor 10#Model Evaluation\n",
    "\n",
    "from sklearn import metrics\n",
    "y_pred = LRRegressor.predict(X_test)\n",
    "#Model Evaluation\n",
    "print('Mean Absolute Error (MAE):', metrics.mean_absolute_error(y_test, y_pred))\n",
    "#print('Mean Squared Error (MSE):', metrics.mean_squared_error(y_test, y_pred))\n",
    "print('Explained Variance Score:', metrics.explained_variance_score(y_test, y_pred))\n",
    "#print('Mean Squared Log Error:', metrics.mean_squared_log_error(y_test, y_pred))\n",
    "print('Median Absolute Error:', metrics.median_absolute_error(y_test, y_pred))\n",
    "print('R^2:', metrics.r2_score(y_test, y_pred)) #Check the accuracty when changing the sample size, when getting negative value, \n",
    "#R2 is negative only when the chosen model does not follow the trend of the data. It seems that your model may be giving better performance because of over-fitting. It can be a case of over-fitting in the model. It can happen because of various reasons like small dataset and noise in the dataset.Jun 13, 2021"
   ]
  },
  {
   "cell_type": "code",
   "execution_count": 41,
   "metadata": {},
   "outputs": [
    {
     "ename": "TypeError",
     "evalue": "__init__() takes 2 positional arguments but 3 were given",
     "output_type": "error",
     "traceback": [
      "\u001b[1;31m---------------------------------------------------------------------------\u001b[0m",
      "\u001b[1;31mTypeError\u001b[0m                                 Traceback (most recent call last)",
      "\u001b[1;32m<ipython-input-41-3733e54ae1bd>\u001b[0m in \u001b[0;36m<module>\u001b[1;34m\u001b[0m\n\u001b[0;32m      9\u001b[0m \u001b[1;33m\u001b[0m\u001b[0m\n\u001b[0;32m     10\u001b[0m \u001b[1;31m#LRPipelinedRegressor = make_pipeline(StandardScaler(),LinearRegression()) #gives accuracy of R^2: 0.6874999175211653\u001b[0m\u001b[1;33m\u001b[0m\u001b[1;33m\u001b[0m\u001b[1;33m\u001b[0m\u001b[0m\n\u001b[1;32m---> 11\u001b[1;33m \u001b[0mLRPipelinedRegressor\u001b[0m \u001b[1;33m=\u001b[0m \u001b[0mpipeline\u001b[0m\u001b[1;33m.\u001b[0m\u001b[0mPipeline\u001b[0m\u001b[1;33m(\u001b[0m\u001b[0mStandardScaler\u001b[0m\u001b[1;33m(\u001b[0m\u001b[1;33m)\u001b[0m\u001b[1;33m,\u001b[0m\u001b[0mLinearRegression\u001b[0m\u001b[1;33m(\u001b[0m\u001b[1;33m)\u001b[0m\u001b[1;33m)\u001b[0m \u001b[1;31m#gives accuracy of R^2: 0.6874999175211653\u001b[0m\u001b[1;33m\u001b[0m\u001b[1;33m\u001b[0m\u001b[0m\n\u001b[0m\u001b[0;32m     12\u001b[0m \u001b[1;33m\u001b[0m\u001b[0m\n\u001b[0;32m     13\u001b[0m \u001b[1;31m#LRRegressor = LinearRegression() #gives less accuracy R^2: 0.6826995509387148\u001b[0m\u001b[1;33m\u001b[0m\u001b[1;33m\u001b[0m\u001b[1;33m\u001b[0m\u001b[0m\n",
      "\u001b[1;31mTypeError\u001b[0m: __init__() takes 2 positional arguments but 3 were given"
     ]
    }
   ],
   "source": [
    "from sklearn.preprocessing import StandardScaler\n",
    "from sklearn.pipeline import make_pipeline\n",
    "\n",
    "from sklearn.linear_model import LinearRegression\n",
    "from sklearn.model_selection import train_test_split\n",
    "X_train, X_test, y_train, y_test = train_test_split(X, y, test_size=samplesize)\n",
    "\n",
    "\n",
    "LRPipelinedRegressor = make_pipeline(StandardScaler(),LinearRegression()) #gives accuracy of R^2: 0.6874999175211653\n",
    "\n",
    "#LRRegressor = LinearRegression() #gives less accuracy R^2: 0.6826995509387148\n",
    "\n",
    "LRPipelinedRegressor.fit(X_train, y_train)\n",
    "#print (LRPipelinedRegressor.predict([[1995,280,10]]))#prediction for apartment, with building age 1995, area 280, and floor 10#Model Evaluation\n",
    "print (LRPipelinedRegressor.predict([[2025]]))#prediction for apartment, with building age 1995, area 280, and floor 10#Model Evaluation\n",
    "from sklearn import metrics\n",
    "y_pred = LRPipelinedRegressor.predict(X_test)\n",
    "#Model Evaluation\n",
    "print('Mean Absolute Error (MAE):', metrics.mean_absolute_error(y_test, y_pred))\n",
    "#print('Mean Squared Error (MSE):', metrics.mean_squared_error(y_test, y_pred))\n",
    "print('Explained Variance Score:', metrics.explained_variance_score(y_test, y_pred))\n",
    "#print('Mean Squared Log Error:', metrics.mean_squared_log_error(y_test, y_pred))\n",
    "print('Median Absolute Error:', metrics.median_absolute_error(y_test, y_pred))\n",
    "print('R^2:', metrics.r2_score(y_test, y_pred)) #Check the accuracty when changing the sample size, when getting negative value, \n",
    "#R2 is negative only when the chosen model does not follow the trend of the data. It seems that your model may be giving better performance because of over-fitting. It can be a case of over-fitting in the model. It can happen because of various reasons like small dataset and noise in the dataset.Jun 13, 2021"
   ]
  }
 ],
 "metadata": {
  "kernelspec": {
   "display_name": "Python 3",
   "language": "python",
   "name": "python3"
  },
  "language_info": {
   "codemirror_mode": {
    "name": "ipython",
    "version": 3
   },
   "file_extension": ".py",
   "mimetype": "text/x-python",
   "name": "python",
   "nbconvert_exporter": "python",
   "pygments_lexer": "ipython3",
   "version": "3.7.1"
  }
 },
 "nbformat": 4,
 "nbformat_minor": 2
}
