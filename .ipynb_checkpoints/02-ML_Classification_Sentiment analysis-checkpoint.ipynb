{
 "cells": [
  {
   "cell_type": "code",
   "execution_count": null,
   "metadata": {},
   "outputs": [],
   "source": [
    "import nltk\n",
    "nltk.download('punkt')"
   ]
  },
  {
   "cell_type": "code",
   "execution_count": null,
   "metadata": {},
   "outputs": [],
   "source": [
    "import pandas as pd\n",
    "df = pd.read_excel(\"SubjectsClassification.xlsx\",'Sentiments_Arabic')\n",
    "# run pip install textblob first from command line\n",
    "from textblob import TextBlob\n",
    "testmonial = TextBlob('the course was excellent')\n",
    "print (testmonial.sentiment)\n",
    "\n",
    "df"
   ]
  },
  {
   "cell_type": "code",
   "execution_count": null,
   "metadata": {},
   "outputs": [],
   "source": [
    "from textblob.classifiers import NaiveBayesClassifier\n",
    "cl = NaiveBayesClassifier(df.head(7).values) #should pass the values, not the data frame with index and columns titles\n",
    "#you have also different classifiers, like DecisionTreeClassifier\n",
    "\n",
    "print(cl.classify(\"مصر خسرت المباراة\"))\n",
    "print(cl.classify(\"مرة واحد لبناني جه يعمل مش عار ايه عمل بتاع\"))\n",
    "print(cl.classify(\"أنتو ولاد\"))\n",
    "cl.accuracy(df.tail(5).values)#you should enter here test data, not all data as we did"
   ]
  },
  {
   "cell_type": "code",
   "execution_count": null,
   "metadata": {},
   "outputs": [],
   "source": [
    "from sklearn.naive_bayes import BernoulliNB\n",
    "\n",
    "mnb = BernoulliNB()\n",
    "mnb.fit(x_train_vect, y_train)\n",
    "y_pred = mnb.predict(x_test_vect)\n",
    "accuracy_score(y_pred, y_test)\n",
    "x_tr = vect.transform([\"This was a very good match\"])\n",
    "yy = mnb.predict(x_tr)\n",
    "print(yy)\n",
    "x_tr = vect.transform([\"This was a very bad match\"])\n",
    "yy = mnb.predict(x_tr)\n",
    "print(yy)"
   ]
  }
 ],
 "metadata": {
  "kernelspec": {
   "display_name": "Python 3",
   "language": "python",
   "name": "python3"
  },
  "language_info": {
   "codemirror_mode": {
    "name": "ipython",
    "version": 3
   },
   "file_extension": ".py",
   "mimetype": "text/x-python",
   "name": "python",
   "nbconvert_exporter": "python",
   "pygments_lexer": "ipython3",
   "version": "3.7.1"
  }
 },
 "nbformat": 4,
 "nbformat_minor": 2
}
