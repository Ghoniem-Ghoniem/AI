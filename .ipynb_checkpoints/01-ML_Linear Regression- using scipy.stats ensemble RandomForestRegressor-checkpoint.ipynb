{
 "cells": [
  {
   "cell_type": "code",
   "execution_count": 1,
   "metadata": {},
   "outputs": [
    {
     "name": "stdout",
     "output_type": "stream",
     "text": [
      "Slope: 234.4970355731225\n",
      "Intercecptor: -468660.5039525691\n",
      "Forecasting for Year 2020: 5023.5079051383655\n"
     ]
    }
   ],
   "source": [
    "import pandas as pd\n",
    "df = pd.read_excel(\"Sales.xlsx\",'Sales')\n",
    "df\n",
    "from sklearn.linear_model import LogisticRegression\n",
    "X = df[['Year','TotalCost']]\n",
    "y = df[['TotalCost']]\n",
    "\n",
    "\n",
    "from scipy import stats\n",
    "r = stats.linregress(X)\n",
    "print ('Slope:',r.slope)\n",
    "print ('Intercecptor:', r.intercept)\n",
    "r.slope,r.intercept,r.rvalue**2     #rvalue is the correlation\n",
    "print (\"Forecasting for Year 2020:\",r.slope*2020 + r.intercept)"
   ]
  },
  {
   "cell_type": "code",
   "execution_count": 8,
   "metadata": {},
   "outputs": [
    {
     "name": "stderr",
     "output_type": "stream",
     "text": [
      "C:\\ProgramData\\Anaconda3\\lib\\site-packages\\ipykernel_launcher.py:10: DataConversionWarning: A column-vector y was passed when a 1d array was expected. Please change the shape of y to (n_samples,), for example using ravel().\n",
      "  # Remove the CWD from sys.path while we load stuff.\n"
     ]
    },
    {
     "name": "stdout",
     "output_type": "stream",
     "text": [
      "[2490.1105]\n"
     ]
    }
   ],
   "source": [
    "#ensemble regression\n",
    "from sklearn.ensemble import RandomForestRegressor # Import Decision Tree Classifier\n",
    "from sklearn import metrics\n",
    "\n",
    "X = df[['Year']]\n",
    "\n",
    "from sklearn.model_selection import train_test_split\n",
    "X_train, X_test, y_train, y_test = train_test_split(X, y, test_size=0.8, random_state=0)\n",
    "rfregressor = RandomForestRegressor(n_estimators = 1000,max_depth=5,random_state = 0)\n",
    "rfregressor.fit(X_train, y_train)\n",
    "print (rfregressor.predict([[2020]]))#prediction for 2020"
   ]
  },
  {
   "cell_type": "code",
   "execution_count": 9,
   "metadata": {},
   "outputs": [
    {
     "name": "stdout",
     "output_type": "stream",
     "text": [
      "Mean Absolute Error (MAE): 868.9474736842105\n",
      "Mean Squared Error (MSE): 2137680.9519767114\n",
      "Explained Variance Score: 0.5039327127807106\n",
      "Mean Squared Log Error: 0.2032759260727326\n",
      "Median Absolute Error: 438.76750000000004\n",
      "R^2: 0.3467671587138397\n",
      "Mean square error: 2137680.9519767114\n"
     ]
    }
   ],
   "source": [
    "y_pred = rfregressor.predict(X_test)\n",
    "#Model Evaluation\n",
    "print('Mean Absolute Error (MAE):', metrics.mean_absolute_error(y_test, y_pred))\n",
    "print('Mean Squared Error (MSE):', metrics.mean_squared_error(y_test, y_pred))\n",
    "print('Explained Variance Score:', metrics.explained_variance_score(y_test, y_pred))\n",
    "print('Mean Squared Log Error:', metrics.mean_squared_log_error(y_test, y_pred))\n",
    "print('Median Absolute Error:', metrics.median_absolute_error(y_test, y_pred))\n",
    "print('R^2:', metrics.r2_score(y_test, y_pred))\n",
    "print('Mean square error:', metrics.mean_squared_error(y_test, y_pred))\n",
    "#print('Accuracy Score:', metrics.accuracy_score(y_test, y_pred)) #valid for classification only, not regresion\n",
    "#print('Balanced Accuracy:', metrics.balanced_accuracy_score(y_test, y_pred)) #Valid only for classfication"
   ]
  }
 ],
 "metadata": {
  "kernelspec": {
   "display_name": "Python 3",
   "language": "python",
   "name": "python3"
  },
  "language_info": {
   "codemirror_mode": {
    "name": "ipython",
    "version": 3
   },
   "file_extension": ".py",
   "mimetype": "text/x-python",
   "name": "python",
   "nbconvert_exporter": "python",
   "pygments_lexer": "ipython3",
   "version": "3.7.1"
  }
 },
 "nbformat": 4,
 "nbformat_minor": 2
}
