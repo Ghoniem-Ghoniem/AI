{
 "cells": [
  {
   "cell_type": "code",
   "execution_count": 42,
   "metadata": {},
   "outputs": [],
   "source": [
    "import pandas as pd\n",
    "from sklearn.preprocessing import StandardScaler\n",
    "from sklearn.pipeline import make_pipeline\n"
   ]
  },
  {
   "cell_type": "code",
   "execution_count": 43,
   "metadata": {},
   "outputs": [
    {
     "data": {
      "text/html": [
       "<div>\n",
       "<style scoped>\n",
       "    .dataframe tbody tr th:only-of-type {\n",
       "        vertical-align: middle;\n",
       "    }\n",
       "\n",
       "    .dataframe tbody tr th {\n",
       "        vertical-align: top;\n",
       "    }\n",
       "\n",
       "    .dataframe thead th {\n",
       "        text-align: right;\n",
       "    }\n",
       "</style>\n",
       "<table border=\"1\" class=\"dataframe\">\n",
       "  <thead>\n",
       "    <tr style=\"text-align: right;\">\n",
       "      <th></th>\n",
       "      <th>SalePrice</th>\n",
       "      <th>BuildingAge</th>\n",
       "      <th>Area</th>\n",
       "      <th>Floor</th>\n",
       "      <th>Location</th>\n",
       "    </tr>\n",
       "  </thead>\n",
       "  <tbody>\n",
       "    <tr>\n",
       "      <th>SalePrice</th>\n",
       "      <td>1.000000</td>\n",
       "      <td>0.447875</td>\n",
       "      <td>0.697199</td>\n",
       "      <td>0.336729</td>\n",
       "      <td>0.010615</td>\n",
       "    </tr>\n",
       "    <tr>\n",
       "      <th>BuildingAge</th>\n",
       "      <td>0.447875</td>\n",
       "      <td>1.000000</td>\n",
       "      <td>0.021282</td>\n",
       "      <td>0.260568</td>\n",
       "      <td>0.005180</td>\n",
       "    </tr>\n",
       "    <tr>\n",
       "      <th>Area</th>\n",
       "      <td>0.697199</td>\n",
       "      <td>0.021282</td>\n",
       "      <td>1.000000</td>\n",
       "      <td>0.179491</td>\n",
       "      <td>0.017981</td>\n",
       "    </tr>\n",
       "    <tr>\n",
       "      <th>Floor</th>\n",
       "      <td>0.336729</td>\n",
       "      <td>0.260568</td>\n",
       "      <td>0.179491</td>\n",
       "      <td>1.000000</td>\n",
       "      <td>0.005355</td>\n",
       "    </tr>\n",
       "    <tr>\n",
       "      <th>Location</th>\n",
       "      <td>0.010615</td>\n",
       "      <td>0.005180</td>\n",
       "      <td>0.017981</td>\n",
       "      <td>0.005355</td>\n",
       "      <td>1.000000</td>\n",
       "    </tr>\n",
       "  </tbody>\n",
       "</table>\n",
       "</div>"
      ],
      "text/plain": [
       "             SalePrice  BuildingAge      Area     Floor  Location\n",
       "SalePrice     1.000000     0.447875  0.697199  0.336729  0.010615\n",
       "BuildingAge   0.447875     1.000000  0.021282  0.260568  0.005180\n",
       "Area          0.697199     0.021282  1.000000  0.179491  0.017981\n",
       "Floor         0.336729     0.260568  0.179491  1.000000  0.005355\n",
       "Location      0.010615     0.005180  0.017981  0.005355  1.000000"
      ]
     },
     "execution_count": 43,
     "metadata": {},
     "output_type": "execute_result"
    }
   ],
   "source": [
    "df = pd.read_excel(\"real_estate_data.xlsx\",'Real_Estate_data')\n",
    "X = df[['BuildingAge','Area','Floor']]\n",
    "y = df[['SalePrice']]\n",
    "from sklearn.svm import SVC\n",
    "from sklearn.model_selection import train_test_split\n",
    "samplesize= 0.7\n",
    "X_train, X_test, y_train, y_test = train_test_split(X, y, test_size=samplesize)\n",
    "df\n",
    "df.corr()"
   ]
  },
  {
   "cell_type": "code",
   "execution_count": 44,
   "metadata": {},
   "outputs": [
    {
     "name": "stderr",
     "output_type": "stream",
     "text": [
      "C:\\ProgramData\\Anaconda3\\lib\\site-packages\\sklearn\\utils\\validation.py:993: DataConversionWarning: A column-vector y was passed when a 1d array was expected. Please change the shape of y to (n_samples, ), for example using ravel().\n",
      "  y = column_or_1d(y, warn=True)\n"
     ]
    },
    {
     "name": "stdout",
     "output_type": "stream",
     "text": [
      "Training accuracy: -0.01281378399366817\n",
      "[208576.64674648]\n"
     ]
    },
    {
     "name": "stderr",
     "output_type": "stream",
     "text": [
      "C:\\ProgramData\\Anaconda3\\lib\\site-packages\\sklearn\\base.py:451: UserWarning: X does not have valid feature names, but StandardScaler was fitted with feature names\n",
      "  \"X does not have valid feature names, but\"\n"
     ]
    },
    {
     "name": "stdout",
     "output_type": "stream",
     "text": [
      "Mean Absolute Error (MAE): 86712.97790288148\n",
      "Explained Variance Score: 0.0021822075110761174\n",
      "Median Absolute Error: 72410.87858218233\n",
      "R^2: -0.010827840956971313\n"
     ]
    }
   ],
   "source": [
    "from sklearn.linear_model import LinearRegression\n",
    "from sklearn.model_selection import train_test_split\n",
    "X_train, X_test, y_train, y_test = train_test_split(X, y, test_size=samplesize)\n",
    "\n",
    "\n",
    "LRPipelinedRegressor = make_pipeline(StandardScaler(),SVR()) #gives accuracy of R^2: 0.6874999175211653\n",
    "\n",
    "#LRRegressor = LinearRegression() #gives less accuracy R^2: 0.6826995509387148\n",
    "\n",
    "LRPipelinedRegressor.fit(X_train, y_train)\n",
    "print('Training accuracy:',LRPipelinedRegressor.score(X_train, y_train))\n",
    "print (LRPipelinedRegressor.predict([[1995,280,10]]))#prediction for apartment, with building age 1995, area 280, and floor 10#Model Evaluation\n",
    "#print (LRPipelinedRegressor.predict([[2025]]))#prediction for apartment, with building age 1995, area 280, and floor 10#Model Evaluation\n",
    "from sklearn import metrics\n",
    "y_pred = LRPipelinedRegressor.predict(X_test)\n",
    "#Model Evaluation\n",
    "print('Mean Absolute Error (MAE):', metrics.mean_absolute_error(y_test, y_pred))\n",
    "#print('Mean Squared Error (MSE):', metrics.mean_squared_error(y_test, y_pred))\n",
    "print('Explained Variance Score:', metrics.explained_variance_score(y_test, y_pred))\n",
    "#print('Mean Squared Log Error:', metrics.mean_squared_log_error(y_test, y_pred))\n",
    "print('Median Absolute Error:', metrics.median_absolute_error(y_test, y_pred))\n",
    "print('R^2:', metrics.r2_score(y_test, y_pred)) #Check the accuracty when changing the sample size, when getting negative value, \n",
    "#R2 is negative only when the chosen model does not follow the trend of the data. It seems that your model may be giving better performance because of over-fitting. It can be a case of over-fitting in the model. It can happen because of various reasons like small dataset and noise in the dataset.Jun 13, 2021"
   ]
  },
  {
   "cell_type": "code",
   "execution_count": 45,
   "metadata": {},
   "outputs": [
    {
     "name": "stderr",
     "output_type": "stream",
     "text": [
      "C:\\ProgramData\\Anaconda3\\lib\\site-packages\\sklearn\\utils\\validation.py:993: DataConversionWarning: A column-vector y was passed when a 1d array was expected. Please change the shape of y to (n_samples, ), for example using ravel().\n",
      "  y = column_or_1d(y, warn=True)\n"
     ]
    },
    {
     "name": "stdout",
     "output_type": "stream",
     "text": [
      "Training accuracy: -0.010236037575127588\n",
      "[209467.45966967]\n"
     ]
    },
    {
     "name": "stderr",
     "output_type": "stream",
     "text": [
      "C:\\ProgramData\\Anaconda3\\lib\\site-packages\\sklearn\\base.py:451: UserWarning: X does not have valid feature names, but SVR was fitted with feature names\n",
      "  \"X does not have valid feature names, but\"\n"
     ]
    },
    {
     "name": "stdout",
     "output_type": "stream",
     "text": [
      "Mean Absolute Error (MAE): 87446.45550095187\n",
      "Explained Variance Score: 0.0011823250988088896\n",
      "Median Absolute Error: 73582.915771595\n",
      "R^2: -0.010933828575814264\n"
     ]
    }
   ],
   "source": [
    "from sklearn.linear_model import LinearRegression\n",
    "from sklearn.model_selection import train_test_split\n",
    "X_train, X_test, y_train, y_test = train_test_split(X, y, test_size=samplesize)\n",
    "\n",
    "\n",
    "LRPipelinedRegressor =SVR() #gives accuracy of R^2: 0.6874999175211653\n",
    "\n",
    "#LRRegressor = LinearRegression() #gives less accuracy R^2: 0.6826995509387148\n",
    "\n",
    "LRPipelinedRegressor.fit(X_train, y_train)\n",
    "print('Training accuracy:',LRPipelinedRegressor.score(X_train, y_train))\n",
    "print (LRPipelinedRegressor.predict([[1995,280,10]]))#prediction for apartment, with building age 1995, area 280, and floor 10#Model Evaluation\n",
    "#print (LRPipelinedRegressor.predict([[2025]]))#prediction for apartment, with building age 1995, area 280, and floor 10#Model Evaluation\n",
    "from sklearn import metrics\n",
    "y_pred = LRPipelinedRegressor.predict(X_test)\n",
    "#Model Evaluation\n",
    "print('Mean Absolute Error (MAE):', metrics.mean_absolute_error(y_test, y_pred))\n",
    "#print('Mean Squared Error (MSE):', metrics.mean_squared_error(y_test, y_pred))\n",
    "print('Explained Variance Score:', metrics.explained_variance_score(y_test, y_pred))\n",
    "#print('Mean Squared Log Error:', metrics.mean_squared_log_error(y_test, y_pred))\n",
    "print('Median Absolute Error:', metrics.median_absolute_error(y_test, y_pred))\n",
    "print('R^2:', metrics.r2_score(y_test, y_pred)) #Check the accuracty when changing the sample size, when getting negative value, \n",
    "#R2 is negative only when the chosen model does not follow the trend of the data. It seems that your model may be giving better performance because of over-fitting. It can be a case of over-fitting in the model. It can happen because of various reasons like small dataset and noise in the dataset.Jun 13, 2021"
   ]
  }
 ],
 "metadata": {
  "kernelspec": {
   "display_name": "Python 3",
   "language": "python",
   "name": "python3"
  },
  "language_info": {
   "codemirror_mode": {
    "name": "ipython",
    "version": 3
   },
   "file_extension": ".py",
   "mimetype": "text/x-python",
   "name": "python",
   "nbconvert_exporter": "python",
   "pygments_lexer": "ipython3",
   "version": "3.7.1"
  }
 },
 "nbformat": 4,
 "nbformat_minor": 2
}
