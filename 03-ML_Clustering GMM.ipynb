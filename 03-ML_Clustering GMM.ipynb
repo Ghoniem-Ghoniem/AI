{
 "cells": [
  {
   "cell_type": "code",
   "execution_count": 11,
   "metadata": {},
   "outputs": [
    {
     "name": "stdout",
     "output_type": "stream",
     "text": [
      "Employee with salary 9000 related  cluster is :  [2]\n",
      "Employee with salary 20000 related  cluster is :  [3]\n",
      "Employee with salary 35000 related  cluster is :  [1]\n"
     ]
    }
   ],
   "source": [
    "import pandas as pd\n",
    "df = pd.read_excel(\"Employees.xlsx\",'Employees')\n",
    "df\n",
    "from sklearn.mixture import GaussianMixture\n",
    "\n",
    "X = df[['Salary']]\n",
    "y = df[['Role']]\n",
    "#X= df.Year.values\n",
    "#y= df.TotalCost.values\n",
    "\n",
    "from sklearn.model_selection import train_test_split\n",
    "X_train, X_test, y_train, y_test = train_test_split(X, y, test_size=0.8, random_state=0)\n",
    "\n",
    "kmeans = GaussianMixture(n_components=4, random_state=0)\n",
    "kmeans.fit(X)\n",
    "#print (kmeans.cluster_centers_)\n",
    "print ('Employee with salary 9000 related  cluster is : ',kmeans.predict([[9000]]))#prediction for 9000 centroid will be the first\n",
    "print ('Employee with salary 20000 related  cluster is : ',kmeans.predict([[20000]]))#prediction for 20000 centroid will be the third\n",
    "print ('Employee with salary 35000 related  cluster is : ',kmeans.predict([[35000]]))#prediction for 20000 centroid will be the second"
   ]
  }
 ],
 "metadata": {
  "kernelspec": {
   "display_name": "Python 3",
   "language": "python",
   "name": "python3"
  },
  "language_info": {
   "codemirror_mode": {
    "name": "ipython",
    "version": 3
   },
   "file_extension": ".py",
   "mimetype": "text/x-python",
   "name": "python",
   "nbconvert_exporter": "python",
   "pygments_lexer": "ipython3",
   "version": "3.7.1"
  }
 },
 "nbformat": 4,
 "nbformat_minor": 2
}
