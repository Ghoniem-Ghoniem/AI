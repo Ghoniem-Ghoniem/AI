{
 "cells": [
  {
   "cell_type": "code",
   "execution_count": 91,
   "metadata": {},
   "outputs": [
    {
     "data": {
      "text/html": [
       "<div>\n",
       "<style scoped>\n",
       "    .dataframe tbody tr th:only-of-type {\n",
       "        vertical-align: middle;\n",
       "    }\n",
       "\n",
       "    .dataframe tbody tr th {\n",
       "        vertical-align: top;\n",
       "    }\n",
       "\n",
       "    .dataframe thead th {\n",
       "        text-align: right;\n",
       "    }\n",
       "</style>\n",
       "<table border=\"1\" class=\"dataframe\">\n",
       "  <thead>\n",
       "    <tr style=\"text-align: right;\">\n",
       "      <th></th>\n",
       "      <th>SalePrice</th>\n",
       "      <th>BuildingAge</th>\n",
       "      <th>Area</th>\n",
       "      <th>Floor</th>\n",
       "      <th>Location</th>\n",
       "    </tr>\n",
       "  </thead>\n",
       "  <tbody>\n",
       "    <tr>\n",
       "      <th>SalePrice</th>\n",
       "      <td>1.000000</td>\n",
       "      <td>0.447875</td>\n",
       "      <td>0.697199</td>\n",
       "      <td>0.336729</td>\n",
       "      <td>0.010615</td>\n",
       "    </tr>\n",
       "    <tr>\n",
       "      <th>BuildingAge</th>\n",
       "      <td>0.447875</td>\n",
       "      <td>1.000000</td>\n",
       "      <td>0.021282</td>\n",
       "      <td>0.260568</td>\n",
       "      <td>0.005180</td>\n",
       "    </tr>\n",
       "    <tr>\n",
       "      <th>Area</th>\n",
       "      <td>0.697199</td>\n",
       "      <td>0.021282</td>\n",
       "      <td>1.000000</td>\n",
       "      <td>0.179491</td>\n",
       "      <td>0.017981</td>\n",
       "    </tr>\n",
       "    <tr>\n",
       "      <th>Floor</th>\n",
       "      <td>0.336729</td>\n",
       "      <td>0.260568</td>\n",
       "      <td>0.179491</td>\n",
       "      <td>1.000000</td>\n",
       "      <td>0.005355</td>\n",
       "    </tr>\n",
       "    <tr>\n",
       "      <th>Location</th>\n",
       "      <td>0.010615</td>\n",
       "      <td>0.005180</td>\n",
       "      <td>0.017981</td>\n",
       "      <td>0.005355</td>\n",
       "      <td>1.000000</td>\n",
       "    </tr>\n",
       "  </tbody>\n",
       "</table>\n",
       "</div>"
      ],
      "text/plain": [
       "             SalePrice  BuildingAge      Area     Floor  Location\n",
       "SalePrice     1.000000     0.447875  0.697199  0.336729  0.010615\n",
       "BuildingAge   0.447875     1.000000  0.021282  0.260568  0.005180\n",
       "Area          0.697199     0.021282  1.000000  0.179491  0.017981\n",
       "Floor         0.336729     0.260568  0.179491  1.000000  0.005355\n",
       "Location      0.010615     0.005180  0.017981  0.005355  1.000000"
      ]
     },
     "execution_count": 91,
     "metadata": {},
     "output_type": "execute_result"
    }
   ],
   "source": [
    "import pandas as pd\n",
    "from sklearn.linear_model import LinearRegression\n",
    "regressor = LinearRegression()\n",
    "\n",
    "\n",
    "df = pd.read_excel(\"real_estate_data.xlsx\",'Real_Estate_data')\n",
    "\n",
    "df.corr() #get the correlation matrix to see to which level the dataset attributes are correlated, that will affect selecting attributes in building the forecasting model\n",
    "# the matrix inform us that there is a strong relationship between pricem age, area, and floor\n",
    "#df.corr()['SalePrice'] #to get correlation for specific field with other atributes"
   ]
  },
  {
   "cell_type": "code",
   "execution_count": 144,
   "metadata": {},
   "outputs": [
    {
     "name": "stdout",
     "output_type": "stream",
     "text": [
      "Num Features: 3\n",
      "Selected Features: [ True False  True  True]\n",
      "Feature Ranking: [1 2 1 1]\n",
      "Column: 0, Selected True, Rank: 1.000\n",
      "Column: 1, Selected False, Rank: 2.000\n",
      "Column: 2, Selected True, Rank: 1.000\n",
      "Column: 3, Selected True, Rank: 1.000\n"
     ]
    },
    {
     "name": "stderr",
     "output_type": "stream",
     "text": [
      "C:\\ProgramData\\Anaconda3\\lib\\site-packages\\sklearn\\utils\\validation.py:761: DataConversionWarning: A column-vector y was passed when a 1d array was expected. Please change the shape of y to (n_samples, ), for example using ravel().\n",
      "  y = column_or_1d(y, warn=True)\n"
     ]
    }
   ],
   "source": [
    "#selection to attributes where according to the correlation\n",
    "Xtest = df[['BuildingAge','Area','Floor','Location']] \n",
    "X = df[['BuildingAge','Area','Floor']]\n",
    "y = df[['SalePrice']]\n",
    "\n",
    "from sklearn.feature_selection import RFE\n",
    "\n",
    "rfe = RFE(regressor,n_features_to_select=3,step=43) # you can tell the eliminator how many features you need\n",
    "fit = rfe.fit(Xtest, y) # let him calculate it free way\n",
    "print(\"Num Features: %d\" % fit.n_features_)\n",
    "print(\"Selected Features: %s\" % fit.support_) #False means never to exclude it\n",
    "print(\"Feature Ranking: %s\" % fit.ranking_) #the more value the more will impact your model\n",
    "\n",
    "for i in range(Xtest.shape[1]):\n",
    "\tprint('Column: %d, Selected %s, Rank: %.3f' % (i, rfe.support_[i], rfe.ranking_[i]))"
   ]
  },
  {
   "cell_type": "code",
   "execution_count": 147,
   "metadata": {},
   "outputs": [
    {
     "name": "stdout",
     "output_type": "stream",
     "text": [
      "[1.18453147e+02 5.61716913e+05 9.62733118e+03 1.10589874e+02]\n"
     ]
    }
   ],
   "source": [
    "from sklearn.feature_selection import chi2\n",
    "from sklearn.feature_selection import SelectKBest\n",
    "chiSelector = SelectKBest(chi2,k=3)\n",
    "X_kbest = chiSelector.fit(Xtest, y)\n",
    "print(X_kbest.scores_)#We choose the highest values, which will be the first 3"
   ]
  },
  {
   "cell_type": "code",
   "execution_count": 112,
   "metadata": {},
   "outputs": [
    {
     "data": {
      "text/plain": [
       "LinearRegression(copy_X=True, fit_intercept=True, n_jobs=None,\n",
       "         normalize=False)"
      ]
     },
     "execution_count": 112,
     "metadata": {},
     "output_type": "execute_result"
    }
   ],
   "source": [
    "from sklearn.model_selection import train_test_split\n",
    "X_train, X_test, y_train, y_test = train_test_split(X, y, test_size=0.8, random_state=0)\n",
    "regressor.fit(X_train, y_train)"
   ]
  },
  {
   "cell_type": "code",
   "execution_count": 113,
   "metadata": {},
   "outputs": [
    {
     "name": "stdout",
     "output_type": "stream",
     "text": [
      "[-9564555.49820002]\n",
      "[[4790.06562598  185.23478385 1305.25374555]]\n",
      "[[56543.70256831]]\n"
     ]
    }
   ],
   "source": [
    "print(regressor.intercept_)\n",
    "print(regressor.coef_)\n",
    "print (regressor.predict([[1995,280,10]]))#prediction for apartment, with building age 1995, area 280, and floor 10"
   ]
  },
  {
   "cell_type": "markdown",
   "metadata": {},
   "source": [
    "# import pickle and forecasting from saved model"
   ]
  },
  {
   "cell_type": "code",
   "execution_count": 114,
   "metadata": {},
   "outputs": [],
   "source": [
    "import pickle\n",
    "pkl_filename = \"pickle_model.pkl\"\n",
    "with open(pkl_filename, 'wb') as file:\n",
    "    pickle.dump(regressor, file)"
   ]
  },
  {
   "cell_type": "code",
   "execution_count": 126,
   "metadata": {},
   "outputs": [
    {
     "data": {
      "text/plain": [
       "array([[214629.91725946]])"
      ]
     },
     "execution_count": 126,
     "metadata": {},
     "output_type": "execute_result"
    }
   ],
   "source": [
    "with open(pkl_filename, 'rb') as file:\n",
    "    pickle_model = pickle.load(file)\n",
    "    \n",
    "Ypredict = pickle_model.predict([[2022,400,15]])\n",
    "Ypredict"
   ]
  },
  {
   "cell_type": "code",
   "execution_count": 116,
   "metadata": {},
   "outputs": [
    {
     "data": {
      "text/plain": [
       "array([[189580.17014682]])"
      ]
     },
     "execution_count": 116,
     "metadata": {},
     "output_type": "execute_result"
    }
   ],
   "source": [
    "Ypredict= pickle_model.predict([[2022,300,10]])\n",
    "Ypredict"
   ]
  }
 ],
 "metadata": {
  "kernelspec": {
   "display_name": "Python 3",
   "language": "python",
   "name": "python3"
  },
  "language_info": {
   "codemirror_mode": {
    "name": "ipython",
    "version": 3
   },
   "file_extension": ".py",
   "mimetype": "text/x-python",
   "name": "python",
   "nbconvert_exporter": "python",
   "pygments_lexer": "ipython3",
   "version": "3.7.1"
  }
 },
 "nbformat": 4,
 "nbformat_minor": 2
}
