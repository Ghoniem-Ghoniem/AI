{
 "cells": [
  {
   "cell_type": "code",
   "execution_count": 46,
   "metadata": {},
   "outputs": [
    {
     "name": "stdout",
     "output_type": "stream",
     "text": [
      "Slope: 127.13043478260873\n",
      "Intercecptor: -253456.5217391305\n",
      "Forecasting for Year 2020: 3346.9565217391355\n"
     ]
    }
   ],
   "source": [
    "import pandas as pd\n",
    "df = pd.read_excel(\"Sales.xlsx\",'Sales')\n",
    "df\n",
    "from sklearn.linear_model import LogisticRegression\n",
    "X = df[['Year','TotalCost']]\n",
    "y = df[['TotalCost']]\n",
    "\n",
    "\n",
    "from scipy import stats\n",
    "r = stats.linregress(X)\n",
    "print ('Slope:',r.slope)\n",
    "print ('Intercecptor:', r.intercept)\n",
    "r.slope,r.intercept,r.rvalue**2     #rvalue is the correlation\n",
    "print (\"Forecasting for Year 2020:\",r.slope*2020 + r.intercept)"
   ]
  },
  {
   "cell_type": "code",
   "execution_count": 47,
   "metadata": {},
   "outputs": [
    {
     "name": "stderr",
     "output_type": "stream",
     "text": [
      "C:\\ProgramData\\Anaconda3\\lib\\site-packages\\ipykernel_launcher.py:10: DataConversionWarning: A column-vector y was passed when a 1d array was expected. Please change the shape of y to (n_samples,), for example using ravel().\n",
      "  # Remove the CWD from sys.path while we load stuff.\n"
     ]
    },
    {
     "name": "stdout",
     "output_type": "stream",
     "text": [
      "[1552.086]\n"
     ]
    }
   ],
   "source": [
    "#ensemble regression\n",
    "from sklearn.ensemble import RandomForestRegressor # Import Decision Tree Classifier\n",
    "from sklearn import metrics\n",
    "\n",
    "X = df[['Year']]\n",
    "\n",
    "from sklearn.model_selection import train_test_split\n",
    "X_train, X_test, y_train, y_test = train_test_split(X, y, test_size=0.8, random_state=0)\n",
    "rfregressor = RandomForestRegressor(n_estimators = 1000,max_depth=5,random_state = 0)\n",
    "rfregressor.fit(X_train, y_train)\n",
    "print (rfregressor.predict([[2020]]))#prediction for 2020"
   ]
  },
  {
   "cell_type": "code",
   "execution_count": 48,
   "metadata": {},
   "outputs": [
    {
     "name": "stdout",
     "output_type": "stream",
     "text": [
      "Mean Absolute Error (MAE): 631.2318947368423\n",
      "Mean Squared Error (MSE): 3825875.4151025275\n",
      "Explained Variance Score: 0.049295028454551804\n",
      "Mean Squared Log Error: 0.25040039055713686\n",
      "Median Absolute Error: 143.914\n",
      "R^2: -0.056284663125946155\n"
     ]
    }
   ],
   "source": [
    "y_pred = rfregressor.predict(X_test)\n",
    "#Model Evaluation\n",
    "print('Mean Absolute Error (MAE):', metrics.mean_absolute_error(y_test, y_pred))\n",
    "print('Mean Squared Error (MSE):', metrics.mean_squared_error(y_test, y_pred))\n",
    "print('Explained Variance Score:', metrics.explained_variance_score(y_test, y_pred))\n",
    "print('Mean Squared Log Error:', metrics.mean_squared_log_error(y_test, y_pred))\n",
    "print('Median Absolute Error:', metrics.median_absolute_error(y_test, y_pred))\n",
    "print('R^2:', metrics.r2_score(y_test, y_pred))\n",
    "#print('Accuracy Score:', metrics.accuracy_score(y_test, y_pred, normalize=False)) #valid for classification only, not regresion\n",
    "#print('Balanced Accuracy:', metrics.balanced_accuracy_score(y_test, y_pred)) #Valid only for classfication"
   ]
  },
  {
   "cell_type": "code",
   "execution_count": 51,
   "metadata": {},
   "outputs": [
    {
     "name": "stdout",
     "output_type": "stream",
     "text": [
      "[[1492.6]]\n"
     ]
    }
   ],
   "source": [
    "#ensemble regression\n",
    "from sklearn.neighbors import KNeighborsRegressor # Import Nearest kneighor\n",
    "from sklearn import metrics\n",
    "\n",
    "X = df[['Year']]\n",
    "\n",
    "from sklearn.model_selection import train_test_split\n",
    "X_train, X_test, y_train, y_test = train_test_split(X, y, test_size=0.7, random_state=0)\n",
    "rfregressor = KNeighborsRegressor()\n",
    "rfregressor.fit(X_train, y_train)\n",
    "print (rfregressor.predict([[2020]]))#prediction for 2020"
   ]
  }
 ],
 "metadata": {
  "kernelspec": {
   "display_name": "Python 3",
   "language": "python",
   "name": "python3"
  },
  "language_info": {
   "codemirror_mode": {
    "name": "ipython",
    "version": 3
   },
   "file_extension": ".py",
   "mimetype": "text/x-python",
   "name": "python",
   "nbconvert_exporter": "python",
   "pygments_lexer": "ipython3",
   "version": "3.7.1"
  }
 },
 "nbformat": 4,
 "nbformat_minor": 2
}
