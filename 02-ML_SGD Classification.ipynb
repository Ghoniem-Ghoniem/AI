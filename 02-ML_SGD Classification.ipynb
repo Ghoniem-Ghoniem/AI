{
 "cells": [
  {
   "cell_type": "code",
   "execution_count": 2,
   "metadata": {
    "scrolled": true
   },
   "outputs": [
    {
     "name": "stderr",
     "output_type": "stream",
     "text": [
      "C:\\ProgramData\\Anaconda3\\lib\\site-packages\\sklearn\\linear_model\\stochastic_gradient.py:166: FutureWarning: max_iter and tol parameters have been added in SGDClassifier in 0.19. If both are left unset, they default to max_iter=5 and tol=None. If tol is not None, max_iter defaults to max_iter=1000. From 0.21, default max_iter will be 1000, and default tol will be 1e-3.\n",
      "  FutureWarning)\n",
      "C:\\ProgramData\\Anaconda3\\lib\\site-packages\\sklearn\\utils\\validation.py:761: DataConversionWarning: A column-vector y was passed when a 1d array was expected. Please change the shape of y to (n_samples, ), for example using ravel().\n",
      "  y = column_or_1d(y, warn=True)\n"
     ]
    },
    {
     "name": "stdout",
     "output_type": "stream",
     "text": [
      "['SMO']\n",
      "['SMO']\n",
      "0.25806451612903225\n"
     ]
    }
   ],
   "source": [
    "import pandas as pd\n",
    "import sklearn.metrics as m\n",
    "df = pd.read_excel(\"Employees.xlsx\",'Employees')\n",
    "df\n",
    "X = df[['Salary']]\n",
    "y = df[['Role']]\n",
    "\n",
    "from sklearn.model_selection import train_test_split\n",
    "X_train, X_test, y_train, y_test = train_test_split(X, y, test_size=0.8, random_state=0)\n",
    "\n",
    "from sklearn.linear_model import SGDClassifier\n",
    "regressor = SGDClassifier()\n",
    "regressor.fit(X_train, y_train)\n",
    "#print(regressor.intercept_)\n",
    "#print(regressor.coef_)\n",
    "y_predict = regressor.predict([[5700]]) \n",
    "print (y_predict)#prediction for 2020\n",
    "y_predict = regressor.predict([[15700]]) \n",
    "print (y_predict)#prediction for 2020\n",
    "y_predict =regressor.predict(X_test)  #Get the splitted part for testing to be predicted, and check the accuray\n",
    "print(m.accuracy_score(y_test, y_predict))"
   ]
  }
 ],
 "metadata": {
  "kernelspec": {
   "display_name": "Python 3",
   "language": "python",
   "name": "python3"
  },
  "language_info": {
   "codemirror_mode": {
    "name": "ipython",
    "version": 3
   },
   "file_extension": ".py",
   "mimetype": "text/x-python",
   "name": "python",
   "nbconvert_exporter": "python",
   "pygments_lexer": "ipython3",
   "version": "3.7.1"
  }
 },
 "nbformat": 4,
 "nbformat_minor": 2
}
