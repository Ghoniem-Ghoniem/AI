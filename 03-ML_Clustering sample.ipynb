{
 "cells": [
  {
   "cell_type": "code",
   "execution_count": 1,
   "metadata": {},
   "outputs": [
    {
     "name": "stdout",
     "output_type": "stream",
     "text": [
      "[[ 4100.]\n",
      " [26000.]\n",
      " [39500.]\n",
      " [ 8450.]]\n",
      "Employee with salary 9000 related  cluster is :  [3]\n",
      "Employee with salary 20000 related  cluster is :  [1]\n"
     ]
    }
   ],
   "source": [
    "import pandas as pd\n",
    "df = pd.read_excel(\"Employees.xlsx\",'Employees')\n",
    "df\n",
    "from sklearn.cluster import KMeans\n",
    "X = df[['Salary']]\n",
    "y = df[['Role']]\n",
    "#X= df.Year.values\n",
    "#y= df.TotalCost.values\n",
    "\n",
    "from sklearn.model_selection import train_test_split\n",
    "X_train, X_test, y_train, y_test = train_test_split(X, y, test_size=0.8, random_state=0)\n",
    "\n",
    "kmeans = KMeans(n_clusters=4)#Find 4 clusters that data is arround\n",
    "kmeans.fit(X)\n",
    "print (kmeans.cluster_centers_)\n",
    "print ('Employee with salary 9000 related  cluster is : ',kmeans.predict([[9000]]))#prediction for 9000\n",
    "print ('Employee with salary 20000 related  cluster is : ',kmeans.predict([[20000]]))#prediction for 20000"
   ]
  }
 ],
 "metadata": {
  "kernelspec": {
   "display_name": "Python 3",
   "language": "python",
   "name": "python3"
  },
  "language_info": {
   "codemirror_mode": {
    "name": "ipython",
    "version": 3
   },
   "file_extension": ".py",
   "mimetype": "text/x-python",
   "name": "python",
   "nbconvert_exporter": "python",
   "pygments_lexer": "ipython3",
   "version": "3.7.1"
  }
 },
 "nbformat": 4,
 "nbformat_minor": 2
}
