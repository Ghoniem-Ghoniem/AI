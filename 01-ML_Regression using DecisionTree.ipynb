{
 "cells": [
  {
   "cell_type": "code",
   "execution_count": 44,
   "metadata": {},
   "outputs": [],
   "source": [
    "import pandas as pd\n",
    "df = pd.read_excel(\"Sales.xlsx\",'Sales')\n",
    "df\n",
    "\n",
    "X = df[['Year','TotalCost']]\n",
    "y = df[['TotalCost']]"
   ]
  },
  {
   "cell_type": "code",
   "execution_count": 52,
   "metadata": {},
   "outputs": [
    {
     "name": "stdout",
     "output_type": "stream",
     "text": [
      "[3024.]\n"
     ]
    }
   ],
   "source": [
    "#ensemble regression\n",
    "from sklearn.tree import DecisionTreeRegressor # Import Nearest kneighor\n",
    "from sklearn import metrics\n",
    "\n",
    "X = df[['Year']]\n",
    "\n",
    "from sklearn.model_selection import train_test_split\n",
    "X_train, X_test, y_train, y_test = train_test_split(X, y, test_size=0.6, random_state=0)\n",
    "dtregressor = DecisionTreeRegressor()\n",
    "dtregressor.fit(X_train, y_train)\n",
    "print (rfregressor.predict([[2020]]))#prediction for 2020"
   ]
  },
  {
   "cell_type": "code",
   "execution_count": 50,
   "metadata": {},
   "outputs": [
    {
     "name": "stdout",
     "output_type": "stream",
     "text": [
      "Mean Absolute Error (MAE): 623.8823529411765\n",
      "Mean Squared Error (MSE): 1664514.4264705882\n",
      "Explained Variance Score: 0.6373617706006571\n",
      "Mean Squared Log Error: 0.15117392241230865\n",
      "Median Absolute Error: 1.5\n",
      "R^2: 0.5270076190842705\n"
     ]
    }
   ],
   "source": [
    "#Model Evaluation\n",
    "from sklearn import metrics\n",
    "y_pred = dtregressor.predict(X_test)\n",
    "#Model Evaluation\n",
    "print('Mean Absolute Error (MAE):', metrics.mean_absolute_error(y_test, y_pred))\n",
    "print('Mean Squared Error (MSE):', metrics.mean_squared_error(y_test, y_pred))\n",
    "print('Explained Variance Score:', metrics.explained_variance_score(y_test, y_pred))\n",
    "print('Mean Squared Log Error:', metrics.mean_squared_log_error(y_test, y_pred))\n",
    "print('Median Absolute Error:', metrics.median_absolute_error(y_test, y_pred))\n",
    "print('R^2:', metrics.r2_score(y_test, y_pred))"
   ]
  }
 ],
 "metadata": {
  "kernelspec": {
   "display_name": "Python 3",
   "language": "python",
   "name": "python3"
  },
  "language_info": {
   "codemirror_mode": {
    "name": "ipython",
    "version": 3
   },
   "file_extension": ".py",
   "mimetype": "text/x-python",
   "name": "python",
   "nbconvert_exporter": "python",
   "pygments_lexer": "ipython3",
   "version": "3.7.1"
  }
 },
 "nbformat": 4,
 "nbformat_minor": 2
}
