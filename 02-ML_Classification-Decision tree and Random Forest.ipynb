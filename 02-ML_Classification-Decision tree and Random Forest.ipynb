{
 "cells": [
  {
   "cell_type": "code",
   "execution_count": 30,
   "metadata": {},
   "outputs": [
    {
     "name": "stdout",
     "output_type": "stream",
     "text": [
      "['Salary']\n",
      "['Salary']\n",
      "0.8387096774193549\n",
      "Predicted role for salary Role: ['TL']\n",
      "Predicted role for salary Role: ['SMO']\n"
     ]
    }
   ],
   "source": [
    "import pandas as pd\n",
    "import heapq\n",
    "df = pd.read_excel(\"Employees.xlsx\",'Employees')\n",
    "df\n",
    "from sklearn.tree import DecisionTreeClassifier # Import Decision Tree Classifier\n",
    "X = df[['Salary']]\n",
    "y = df[['Role']]\n",
    "print (heapq.nlargest(5,X))\n",
    "print (heapq.nsmallest(5,X))\n",
    "\n",
    "\n",
    "\n",
    "from sklearn.model_selection import train_test_split\n",
    "X_train, X_test, y_train, y_test = train_test_split(X, y, test_size=0.8, random_state=0)\n",
    "\n",
    "from sklearn.tree import DecisionTreeClassifier\n",
    "regressor = DecisionTreeClassifier()\n",
    "regressor.fit(X_train, y_train)\n",
    "print(regressor.score(X_test,y_test))\n",
    "#print(regressor.coef_)\n",
    "print ('Predicted role for salary Role:',regressor.predict([[5520]]))\n",
    "print ('Predicted role for salary Role:',regressor.predict([[30000]]))"
   ]
  },
  {
   "cell_type": "code",
   "execution_count": 32,
   "metadata": {},
   "outputs": [
    {
     "name": "stdout",
     "output_type": "stream",
     "text": [
      "0.8709677419354839\n",
      "['Manager']\n",
      "['SMO']\n"
     ]
    },
    {
     "name": "stderr",
     "output_type": "stream",
     "text": [
      "C:\\ProgramData\\Anaconda3\\lib\\site-packages\\ipykernel_launcher.py:8: DataConversionWarning: A column-vector y was passed when a 1d array was expected. Please change the shape of y to (n_samples,), for example using ravel().\n",
      "  \n"
     ]
    }
   ],
   "source": [
    "#ensemble regression\n",
    "from sklearn.ensemble import RandomForestClassifier # Import Decision Tree Classifier\n",
    "\n",
    "\n",
    "from sklearn.model_selection import train_test_split\n",
    "X_train, X_test, y_train, y_test = train_test_split(X, y, test_size=0.8, random_state=0)\n",
    "regressor = RandomForestClassifier(n_estimators=10)\n",
    "regressor.fit(X_train, y_train)\n",
    "print(regressor.score(X_test,y_test))\n",
    "#print(regressor.coef_)\n",
    "print (regressor.predict([[18500]]))#prediction for 2020\n",
    "print (regressor.predict([[25600]]))#prediction for 2020"
   ]
  },
  {
   "cell_type": "code",
   "execution_count": 33,
   "metadata": {},
   "outputs": [
    {
     "name": "stdout",
     "output_type": "stream",
     "text": [
      "Accuracy Score: 27\n",
      "Balanced Accuracy: 0.8660714285714286\n"
     ]
    }
   ],
   "source": [
    "#Model Evaluation\n",
    "from sklearn import metrics\n",
    "y_pred = regressor.predict(X_test)\n",
    "#Model Evaluation\n",
    "#print('Mean Absolute Error (MAE):', metrics.mean_absolute_error(y_test, y_pred))\n",
    "#print('Mean Squared Error (MSE):', metrics.mean_squared_error(y_test, y_pred))\n",
    "#print('Explained Variance Score:', metrics.explained_variance_score(y_test, y_pred))\n",
    "#print('Mean Squared Log Error:', metrics.mean_squared_log_error(y_test, y_pred))\n",
    "#print('Median Absolute Error:', metrics.median_absolute_error(y_test, y_pred))\n",
    "#print('R^2:', metrics.r2_score(y_test, y_pred))\n",
    "print('Accuracy Score:', metrics.accuracy_score(y_test, y_pred, normalize=False)) #valid for classification only, not regresion\n",
    "print('Balanced Accuracy:', metrics.balanced_accuracy_score(y_test, y_pred)) #Valid only for classfication"
   ]
  }
 ],
 "metadata": {
  "kernelspec": {
   "display_name": "Python 3",
   "language": "python",
   "name": "python3"
  },
  "language_info": {
   "codemirror_mode": {
    "name": "ipython",
    "version": 3
   },
   "file_extension": ".py",
   "mimetype": "text/x-python",
   "name": "python",
   "nbconvert_exporter": "python",
   "pygments_lexer": "ipython3",
   "version": "3.7.1"
  }
 },
 "nbformat": 4,
 "nbformat_minor": 2
}
